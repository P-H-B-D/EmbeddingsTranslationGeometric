{
 "cells": [
  {
   "cell_type": "markdown",
   "metadata": {},
   "source": [
    "# Random Sample K Means Cluster\n",
    "\n",
    "What this demo does:\n",
    "\n",
    "- Samples N random text embeddings from wiki dataset, gets 3 models' cluster similarity for those vectors as demonstrated in ```./kmeans.ipynb```\n",
    "- Take cluster similarity between all three models\n",
    "- Serves as a baseline of cluster invariance across embeddings models\n",
    "- Can easily be extendable to a loss function evaluated at the batch level in a translation model as follows:\n",
    "    - Embed ```b``` vectors using source and target model, where ```b``` = batch size. Translate vectors using MLP.\n",
    "    - Cluster the target embeddings vectors and generated translated embeddings vectors, evaluate loss using the k-Means similarity technique described in ```./kmeans.ipynb```.\n"
   ]
  },
  {
   "cell_type": "code",
   "execution_count": null,
   "metadata": {},
   "outputs": [],
   "source": []
  }
 ],
 "metadata": {
  "language_info": {
   "name": "python"
  }
 },
 "nbformat": 4,
 "nbformat_minor": 2
}
