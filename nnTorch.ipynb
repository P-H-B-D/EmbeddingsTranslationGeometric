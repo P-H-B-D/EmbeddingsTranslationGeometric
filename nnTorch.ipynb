{
 "cells": [
  {
   "cell_type": "code",
   "execution_count": null,
   "metadata": {},
   "outputs": [],
   "source": [
    "import numpy as np\n",
    "import pandas as pd \n",
    "\n",
    "fns=['./data/oawikishort.csv','./data/sbertDf.csv','./data/mpnetDf.csv']\n",
    "modelNames=['OpenAI (ada02)','SBERT','MPNet']\n",
    "\n",
    "openAI=pd.read_csv(fns[0])\n",
    "openAI['content_vector'] = openAI['content_vector'].apply(lambda x: np.fromstring(x[1:-1], sep=','))\n",
    "\n",
    "sbert=pd.read_csv(fns[1])\n",
    "sbert['content_vector'] = sbert['content_vector'].apply(lambda x: np.fromstring(x[1:-1], sep=' '))\n",
    "\n",
    "mpnet=pd.read_csv(fns[2])\n",
    "mpnet['content_vector'] = mpnet['content_vector'].apply(lambda x: np.fromstring(x[1:-1], sep=' '))\n",
    "\n",
    "\n",
    "openAI=openAI.rename(columns={\"content_vector\": \"openai\"})\n",
    "sbert=sbert.rename(columns={\"content_vector\": \"sbert\"})\n",
    "mpnet=mpnet.rename(columns={\"content_vector\": \"mpnet\"})\n",
    "df=openAI.join(sbert.set_index('text'), on='text')\n",
    "df=df.join(mpnet.set_index('text'), on='text')"
   ]
  }
 ],
 "metadata": {
  "language_info": {
   "name": "python"
  }
 },
 "nbformat": 4,
 "nbformat_minor": 2
}
