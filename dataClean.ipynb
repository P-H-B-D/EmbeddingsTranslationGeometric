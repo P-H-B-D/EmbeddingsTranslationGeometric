{
 "cells": [
  {
   "cell_type": "markdown",
   "metadata": {},
   "source": [
    "# Data fetching and preparation\n",
    "\n",
    "Takes a large dataset of the OpenAI ada02 embeddings of Wikipedia, cuts out entries with prohibitively (by other models' context length) long or short text entries."
   ]
  },
  {
   "cell_type": "code",
   "execution_count": 1,
   "metadata": {},
   "outputs": [],
   "source": [
    "import pandas as pd\n",
    "import numpy as np\n",
    "# oawiki.csv may be downloaded from https://cdn.openai.com/API/examples/data/vector_database_wikipedia_articles_embedded.zip . This is a very large file (~2GB), so it is not included in the repository.\n",
    "df = pd.read_csv('./data/oawiki.csv')"
   ]
  },
  {
   "cell_type": "markdown",
   "metadata": {},
   "source": [
    "Saves as \"oawikishort.csv\" which we will use in ```./altmodels.ipynb```"
   ]
  },
  {
   "cell_type": "code",
   "execution_count": 2,
   "metadata": {},
   "outputs": [],
   "source": [
    "df['word_count'] = df['text'].str.split().str.len()\n",
    "df2=df[df['word_count'] < 256]\n",
    "df2=df2[df2['word_count'] > 10]\n",
    "df3=df2.head(10000)\n",
    "df3=df3[['text','content_vector']]\n",
    "df3.to_csv('./data/oawikishort.csv', index=False)"
   ]
  }
 ],
 "metadata": {
  "kernelspec": {
   "display_name": "Python 3",
   "language": "python",
   "name": "python3"
  },
  "language_info": {
   "codemirror_mode": {
    "name": "ipython",
    "version": 3
   },
   "file_extension": ".py",
   "mimetype": "text/x-python",
   "name": "python",
   "nbconvert_exporter": "python",
   "pygments_lexer": "ipython3",
   "version": "3.11.6"
  }
 },
 "nbformat": 4,
 "nbformat_minor": 2
}
