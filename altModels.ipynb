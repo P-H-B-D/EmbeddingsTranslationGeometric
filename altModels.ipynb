{
 "cells": [
  {
   "cell_type": "markdown",
   "metadata": {},
   "source": [
    "# Cross Model Embeddings Training Data Generation\n",
    "\n",
    "A version of this file that integrates cloud storage + GPU processing is available at: https://colab.research.google.com/drive/16YUuIfv4eZ9W0fc5NxJEDgyiaHwakmMi?usp=sharing"
   ]
  },
  {
   "cell_type": "markdown",
   "metadata": {},
   "source": [
    "### Load each model: *all-mpnet-base-v2* (\"MPNET\") and *paraphrase-MiniLM-L6-v2* (\"SBERT\")"
   ]
  },
  {
   "cell_type": "code",
   "execution_count": 89,
   "metadata": {},
   "outputs": [
    {
     "name": "stdout",
     "output_type": "stream",
     "text": [
      "MPNET Shape:  (1, 768)\n"
     ]
    }
   ],
   "source": [
    "from sentence_transformers import SentenceTransformer\n",
    "import pandas as pd\n",
    "import numpy as np\n",
    "\n",
    "sentences = [\"This is an example sentence\"]\n",
    "mpnetModel = SentenceTransformer('sentence-transformers/all-mpnet-base-v2')\n",
    "mpnetEmbeddings = mpnetModel.encode(sentences)\n",
    "print('MPNET Shape: ',mpnetEmbeddings.shape)"
   ]
  },
  {
   "cell_type": "code",
   "execution_count": 90,
   "metadata": {},
   "outputs": [
    {
     "name": "stdout",
     "output_type": "stream",
     "text": [
      "SBERT Shape:  (1, 384)\n"
     ]
    }
   ],
   "source": [
    "sbertModel = SentenceTransformer('paraphrase-MiniLM-L6-v2')\n",
    "sbertEmbeddings = sbertModel.encode(sentences)\n",
    "print('SBERT Shape: ',sbertEmbeddings.shape)"
   ]
  },
  {
   "cell_type": "markdown",
   "metadata": {},
   "source": [
    "### Original data containing large repository of strings and their ada02 embeddings"
   ]
  },
  {
   "cell_type": "code",
   "execution_count": 91,
   "metadata": {},
   "outputs": [
    {
     "data": {
      "text/html": [
       "<div>\n",
       "<style scoped>\n",
       "    .dataframe tbody tr th:only-of-type {\n",
       "        vertical-align: middle;\n",
       "    }\n",
       "\n",
       "    .dataframe tbody tr th {\n",
       "        vertical-align: top;\n",
       "    }\n",
       "\n",
       "    .dataframe thead th {\n",
       "        text-align: right;\n",
       "    }\n",
       "</style>\n",
       "<table border=\"1\" class=\"dataframe\">\n",
       "  <thead>\n",
       "    <tr style=\"text-align: right;\">\n",
       "      <th></th>\n",
       "      <th>text</th>\n",
       "      <th>content_vector</th>\n",
       "    </tr>\n",
       "  </thead>\n",
       "  <tbody>\n",
       "    <tr>\n",
       "      <th>0</th>\n",
       "      <td>Adobe Illustrator is a computer program for ma...</td>\n",
       "      <td>[-0.014151964336633682, -0.026334520429372787,...</td>\n",
       "    </tr>\n",
       "    <tr>\n",
       "      <th>1</th>\n",
       "      <td>Andouille is a type of pork sausage. It is spi...</td>\n",
       "      <td>[0.0009071908425539732, 0.012005319818854332, ...</td>\n",
       "    </tr>\n",
       "    <tr>\n",
       "      <th>2</th>\n",
       "      <td>In mathematics, arithmetic is the basic study ...</td>\n",
       "      <td>[0.01396116428077221, 0.0296261515468359, 0.02...</td>\n",
       "    </tr>\n",
       "    <tr>\n",
       "      <th>3</th>\n",
       "      <td>Aquaculture is the farming of fish, shrimp, ab...</td>\n",
       "      <td>[0.029741521924734116, -0.0063290782272815704,...</td>\n",
       "    </tr>\n",
       "    <tr>\n",
       "      <th>4</th>\n",
       "      <td>An Abrahamic Religion is a religion whose foll...</td>\n",
       "      <td>[-0.008373422548174858, -0.0059760394506156445...</td>\n",
       "    </tr>\n",
       "  </tbody>\n",
       "</table>\n",
       "</div>"
      ],
      "text/plain": [
       "                                                text  \\\n",
       "0  Adobe Illustrator is a computer program for ma...   \n",
       "1  Andouille is a type of pork sausage. It is spi...   \n",
       "2  In mathematics, arithmetic is the basic study ...   \n",
       "3  Aquaculture is the farming of fish, shrimp, ab...   \n",
       "4  An Abrahamic Religion is a religion whose foll...   \n",
       "\n",
       "                                      content_vector  \n",
       "0  [-0.014151964336633682, -0.026334520429372787,...  \n",
       "1  [0.0009071908425539732, 0.012005319818854332, ...  \n",
       "2  [0.01396116428077221, 0.0296261515468359, 0.02...  \n",
       "3  [0.029741521924734116, -0.0063290782272815704,...  \n",
       "4  [-0.008373422548174858, -0.0059760394506156445...  "
      ]
     },
     "execution_count": 91,
     "metadata": {},
     "output_type": "execute_result"
    }
   ],
   "source": [
    "df = pd.read_csv('./data/oawikishort.csv')\n",
    "df['content_vector'] = df['content_vector'].apply(lambda x: np.fromstring(x[1:-1], sep=','))\n",
    "df.head()"
   ]
  },
  {
   "cell_type": "markdown",
   "metadata": {},
   "source": [
    "### Re-Embedding each of the strings in the new models, load them into a dataframe of the same format as the original"
   ]
  },
  {
   "cell_type": "code",
   "execution_count": 92,
   "metadata": {},
   "outputs": [
    {
     "data": {
      "text/html": [
       "<div>\n",
       "<style scoped>\n",
       "    .dataframe tbody tr th:only-of-type {\n",
       "        vertical-align: middle;\n",
       "    }\n",
       "\n",
       "    .dataframe tbody tr th {\n",
       "        vertical-align: top;\n",
       "    }\n",
       "\n",
       "    .dataframe thead th {\n",
       "        text-align: right;\n",
       "    }\n",
       "</style>\n",
       "<table border=\"1\" class=\"dataframe\">\n",
       "  <thead>\n",
       "    <tr style=\"text-align: right;\">\n",
       "      <th></th>\n",
       "      <th>text</th>\n",
       "      <th>content_vector</th>\n",
       "    </tr>\n",
       "  </thead>\n",
       "  <tbody>\n",
       "    <tr>\n",
       "      <th>0</th>\n",
       "      <td>Adobe Illustrator is a computer program for ma...</td>\n",
       "      <td>[0.008696059, -0.06535278, -0.02939201, 0.0274...</td>\n",
       "    </tr>\n",
       "    <tr>\n",
       "      <th>1</th>\n",
       "      <td>Andouille is a type of pork sausage. It is spi...</td>\n",
       "      <td>[-0.0032255095, -0.0033803084, 0.031124098, -0...</td>\n",
       "    </tr>\n",
       "    <tr>\n",
       "      <th>2</th>\n",
       "      <td>In mathematics, arithmetic is the basic study ...</td>\n",
       "      <td>[-0.019254666, 0.038105287, -0.0052210256, -0....</td>\n",
       "    </tr>\n",
       "    <tr>\n",
       "      <th>3</th>\n",
       "      <td>Aquaculture is the farming of fish, shrimp, ab...</td>\n",
       "      <td>[-0.012030668, 0.029283559, -0.04656314, -0.03...</td>\n",
       "    </tr>\n",
       "    <tr>\n",
       "      <th>4</th>\n",
       "      <td>An Abrahamic Religion is a religion whose foll...</td>\n",
       "      <td>[-0.009044365, 0.0052855993, -0.0021596916, -0...</td>\n",
       "    </tr>\n",
       "  </tbody>\n",
       "</table>\n",
       "</div>"
      ],
      "text/plain": [
       "                                                text  \\\n",
       "0  Adobe Illustrator is a computer program for ma...   \n",
       "1  Andouille is a type of pork sausage. It is spi...   \n",
       "2  In mathematics, arithmetic is the basic study ...   \n",
       "3  Aquaculture is the farming of fish, shrimp, ab...   \n",
       "4  An Abrahamic Religion is a religion whose foll...   \n",
       "\n",
       "                                      content_vector  \n",
       "0  [0.008696059, -0.06535278, -0.02939201, 0.0274...  \n",
       "1  [-0.0032255095, -0.0033803084, 0.031124098, -0...  \n",
       "2  [-0.019254666, 0.038105287, -0.0052210256, -0....  \n",
       "3  [-0.012030668, 0.029283559, -0.04656314, -0.03...  \n",
       "4  [-0.009044365, 0.0052855993, -0.0021596916, -0...  "
      ]
     },
     "execution_count": 92,
     "metadata": {},
     "output_type": "execute_result"
    }
   ],
   "source": [
    "mpnetDf = pd.DataFrame(columns=['text', 'content_vector'])\n",
    "for item in df['text'][0:1000]:\n",
    "    mpnetDf.loc[len(mpnetDf)]=[item, mpnetModel.encode(item)] \n",
    "mpnetDf.head()"
   ]
  },
  {
   "cell_type": "code",
   "execution_count": 93,
   "metadata": {},
   "outputs": [
    {
     "data": {
      "text/html": [
       "<div>\n",
       "<style scoped>\n",
       "    .dataframe tbody tr th:only-of-type {\n",
       "        vertical-align: middle;\n",
       "    }\n",
       "\n",
       "    .dataframe tbody tr th {\n",
       "        vertical-align: top;\n",
       "    }\n",
       "\n",
       "    .dataframe thead th {\n",
       "        text-align: right;\n",
       "    }\n",
       "</style>\n",
       "<table border=\"1\" class=\"dataframe\">\n",
       "  <thead>\n",
       "    <tr style=\"text-align: right;\">\n",
       "      <th></th>\n",
       "      <th>text</th>\n",
       "      <th>content_vector</th>\n",
       "    </tr>\n",
       "  </thead>\n",
       "  <tbody>\n",
       "    <tr>\n",
       "      <th>0</th>\n",
       "      <td>Adobe Illustrator is a computer program for ma...</td>\n",
       "      <td>[-0.09872252, -0.098462135, -0.09605899, 0.108...</td>\n",
       "    </tr>\n",
       "    <tr>\n",
       "      <th>1</th>\n",
       "      <td>Andouille is a type of pork sausage. It is spi...</td>\n",
       "      <td>[0.082766406, 0.18600921, -0.15227738, -0.0496...</td>\n",
       "    </tr>\n",
       "    <tr>\n",
       "      <th>2</th>\n",
       "      <td>In mathematics, arithmetic is the basic study ...</td>\n",
       "      <td>[-0.13644145, 0.025827754, -0.17222969, -0.175...</td>\n",
       "    </tr>\n",
       "    <tr>\n",
       "      <th>3</th>\n",
       "      <td>Aquaculture is the farming of fish, shrimp, ab...</td>\n",
       "      <td>[0.12441488, -0.17825788, 0.03768404, -0.01909...</td>\n",
       "    </tr>\n",
       "    <tr>\n",
       "      <th>4</th>\n",
       "      <td>An Abrahamic Religion is a religion whose foll...</td>\n",
       "      <td>[0.19308558, 0.44453397, -0.197952, 0.13355273...</td>\n",
       "    </tr>\n",
       "  </tbody>\n",
       "</table>\n",
       "</div>"
      ],
      "text/plain": [
       "                                                text  \\\n",
       "0  Adobe Illustrator is a computer program for ma...   \n",
       "1  Andouille is a type of pork sausage. It is spi...   \n",
       "2  In mathematics, arithmetic is the basic study ...   \n",
       "3  Aquaculture is the farming of fish, shrimp, ab...   \n",
       "4  An Abrahamic Religion is a religion whose foll...   \n",
       "\n",
       "                                      content_vector  \n",
       "0  [-0.09872252, -0.098462135, -0.09605899, 0.108...  \n",
       "1  [0.082766406, 0.18600921, -0.15227738, -0.0496...  \n",
       "2  [-0.13644145, 0.025827754, -0.17222969, -0.175...  \n",
       "3  [0.12441488, -0.17825788, 0.03768404, -0.01909...  \n",
       "4  [0.19308558, 0.44453397, -0.197952, 0.13355273...  "
      ]
     },
     "execution_count": 93,
     "metadata": {},
     "output_type": "execute_result"
    }
   ],
   "source": [
    "sbertDf = pd.DataFrame(columns=['text', 'content_vector'])\n",
    "for item in df['text'][0:1000]:\n",
    "    sbertDf.loc[len(sbertDf)]=[item, sbertModel.encode(item)] \n",
    "sbertDf.head()"
   ]
  },
  {
   "cell_type": "code",
   "execution_count": 94,
   "metadata": {},
   "outputs": [
    {
     "name": "stdout",
     "output_type": "stream",
     "text": [
      "Pre-normalization:\n",
      "[23.709817233295155, 20.227527645884663, 19.912462634983058, 22.73885046923791, 20.649800833485827]\n",
      "[0.9999999850087993, 1.0000000372329778, 0.9999998285552794, 1.000000099209858, 0.9999997983312348]\n",
      "\n",
      "Post-normalization:\n",
      "[1.000000024277126, 1.0000000314560813, 0.9999999167779237, 1.0000000144134287, 1.000000001586429]\n",
      "[0.9999999850087993, 1.0000000372329778, 1.0000000516989802, 1.000000099209858, 1.0000000308881525]\n"
     ]
    }
   ],
   "source": [
    "print(\"Pre-normalization:\")\n",
    "print([sum(x**2) for x in sbertDf.head()['content_vector']]) \n",
    "print([sum(x**2) for x in mpnetDf.head()['content_vector']]) \n",
    "\n",
    "#Normalize the vectors. I think MPNET is automatically normalized, but just for good measure.\n",
    "sbertDf['content_vector'] = sbertDf['content_vector'].apply(lambda x: x/np.linalg.norm(x))\n",
    "mpnetDf['content_vector'] = mpnetDf['content_vector'].apply(lambda x: x/np.linalg.norm(x))\n",
    "\n",
    "print(\"\\nPost-normalization:\")\n",
    "print([sum(x**2) for x in sbertDf.head()['content_vector']]) \n",
    "print([sum(x**2) for x in mpnetDf.head()['content_vector']])"
   ]
  },
  {
   "cell_type": "markdown",
   "metadata": {},
   "source": [
    "### Save each df to a csv that looks like the original"
   ]
  },
  {
   "cell_type": "code",
   "execution_count": 95,
   "metadata": {},
   "outputs": [],
   "source": [
    "#save sbertDf and mpnetDf to csv\n",
    "sbertDf.to_csv('./data/sbertDf.csv', index=False)\n",
    "mpnetDf.to_csv('./data/mpnetDf.csv', index=False)"
   ]
  },
  {
   "cell_type": "markdown",
   "metadata": {},
   "source": [
    "### Test Load data to ensure data validity"
   ]
  },
  {
   "cell_type": "code",
   "execution_count": 96,
   "metadata": {},
   "outputs": [
    {
     "data": {
      "text/html": [
       "<div>\n",
       "<style scoped>\n",
       "    .dataframe tbody tr th:only-of-type {\n",
       "        vertical-align: middle;\n",
       "    }\n",
       "\n",
       "    .dataframe tbody tr th {\n",
       "        vertical-align: top;\n",
       "    }\n",
       "\n",
       "    .dataframe thead th {\n",
       "        text-align: right;\n",
       "    }\n",
       "</style>\n",
       "<table border=\"1\" class=\"dataframe\">\n",
       "  <thead>\n",
       "    <tr style=\"text-align: right;\">\n",
       "      <th></th>\n",
       "      <th>text</th>\n",
       "      <th>content_vector</th>\n",
       "    </tr>\n",
       "  </thead>\n",
       "  <tbody>\n",
       "    <tr>\n",
       "      <th>0</th>\n",
       "      <td>Adobe Illustrator is a computer program for ma...</td>\n",
       "      <td>[0.00869605877, -0.0653527826, -0.0293920096, ...</td>\n",
       "    </tr>\n",
       "    <tr>\n",
       "      <th>1</th>\n",
       "      <td>Andouille is a type of pork sausage. It is spi...</td>\n",
       "      <td>[-0.00322550954, -0.00338030839, 0.0311240982,...</td>\n",
       "    </tr>\n",
       "    <tr>\n",
       "      <th>2</th>\n",
       "      <td>In mathematics, arithmetic is the basic study ...</td>\n",
       "      <td>[-0.0192546677, 0.0381052904, -0.00522102602, ...</td>\n",
       "    </tr>\n",
       "    <tr>\n",
       "      <th>3</th>\n",
       "      <td>Aquaculture is the farming of fish, shrimp, ab...</td>\n",
       "      <td>[-0.0120306676, 0.0292835589, -0.046563141, -0...</td>\n",
       "    </tr>\n",
       "    <tr>\n",
       "      <th>4</th>\n",
       "      <td>An Abrahamic Religion is a religion whose foll...</td>\n",
       "      <td>[-0.00904436596, 0.00528559973, -0.00215969188...</td>\n",
       "    </tr>\n",
       "  </tbody>\n",
       "</table>\n",
       "</div>"
      ],
      "text/plain": [
       "                                                text  \\\n",
       "0  Adobe Illustrator is a computer program for ma...   \n",
       "1  Andouille is a type of pork sausage. It is spi...   \n",
       "2  In mathematics, arithmetic is the basic study ...   \n",
       "3  Aquaculture is the farming of fish, shrimp, ab...   \n",
       "4  An Abrahamic Religion is a religion whose foll...   \n",
       "\n",
       "                                      content_vector  \n",
       "0  [0.00869605877, -0.0653527826, -0.0293920096, ...  \n",
       "1  [-0.00322550954, -0.00338030839, 0.0311240982,...  \n",
       "2  [-0.0192546677, 0.0381052904, -0.00522102602, ...  \n",
       "3  [-0.0120306676, 0.0292835589, -0.046563141, -0...  \n",
       "4  [-0.00904436596, 0.00528559973, -0.00215969188...  "
      ]
     },
     "execution_count": 96,
     "metadata": {},
     "output_type": "execute_result"
    }
   ],
   "source": [
    "df = pd.read_csv('./data/mpnetDf.csv')\n",
    "df['content_vector'] = df['content_vector'].apply(lambda x: np.fromstring(x[1:-1], sep=' '))\n",
    "df.head()"
   ]
  }
 ],
 "metadata": {
  "kernelspec": {
   "display_name": "Python 3",
   "language": "python",
   "name": "python3"
  },
  "language_info": {
   "codemirror_mode": {
    "name": "ipython",
    "version": 3
   },
   "file_extension": ".py",
   "mimetype": "text/x-python",
   "name": "python",
   "nbconvert_exporter": "python",
   "pygments_lexer": "ipython3",
   "version": "3.11.6"
  }
 },
 "nbformat": 4,
 "nbformat_minor": 2
}
